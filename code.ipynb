{
 "cells": [
  {
   "cell_type": "markdown",
   "metadata": {},
   "source": [
    "## ***`Simple Text Analyzer`***\n",
    "### **`Objective`: Creating a a hard coded text analyzer**"
   ]
  },
  {
   "cell_type": "code",
   "execution_count": 36,
   "metadata": {},
   "outputs": [
    {
     "name": "stdout",
     "output_type": "stream",
     "text": [
      "Words: 45\n",
      "Sentences: 9\n",
      "Avg Word Length: 5.266666666666667\n",
      "Most frequent word: There is not a frequent word in the text\n"
     ]
    }
   ],
   "source": [
    "def text_analyzer(text: str):\n",
    "    \"\"\"\n",
    "        The function analysis the given text by counting \n",
    "        how many words and sentences in the text, \n",
    "        calculate avg word length\n",
    "        and finding the most frequent word\n",
    "\n",
    "       Parameters:\n",
    "       text --> str\n",
    "\n",
    "        Return values:\n",
    "        1. number of words in the text (int)\n",
    "        2. number of sentences in the text (int)\n",
    "        3. Average word length (float)\n",
    "        4. The most frequent word in the text (str)\n",
    "                    (In this exact order)\n",
    "    \"\"\"\n",
    "    count_sent=0\n",
    "    temp_text=\"\"\n",
    "    words=[]\n",
    "    new_text=\"\"\n",
    "    word_length=[]\n",
    "    frequency={}\n",
    "    freq_word=\"\"\n",
    "    \n",
    "    if text[-1] !=\" \":\n",
    "        text+=\" \"\n",
    "    # For counting the sentences\n",
    "    for char in text:\n",
    "        if char in \",.!?\": \n",
    "            count_sent+=1\n",
    "    # Removing \",.!?\"\n",
    "    for char in text:\n",
    "        if char in \",.!?\":\n",
    "            continue\n",
    "        else:\n",
    "            new_text+=char\n",
    "    # Counting words\n",
    "    for char in new_text:\n",
    "        if char == \" \" or char == \"-\":\n",
    "            words.append(temp_text)\n",
    "            temp_text=\"\"\n",
    "            \n",
    "        elif char !=\" \" or char !=\"-\":\n",
    "            temp_text+=char\n",
    "    # To get Avg word length\n",
    "    for word in words:\n",
    "        word_length.append(len(word))\n",
    "    # To find the word with the most frequency\n",
    "        if word in frequency:\n",
    "            frequency[word]+=1\n",
    "        else:\n",
    "            frequency[word]=1\n",
    "    # The max frequency of a word\n",
    "    max_word_count=max(frequency.values())\n",
    "    # If there are more words with the same frequency we add them in a list\n",
    "    words_with_max_freq=[word for word in frequency if frequency[word] == max_word_count]\n",
    "    # If there is one element in the list we declare it as the most frequent word\n",
    "    if len(words_with_max_freq)==1:\n",
    "        freq_word=words_with_max_freq[0]\n",
    "    # If there is more than one element than that means there is no most frequent word\n",
    "    else:\n",
    "        freq_word=\"There is not a frequent word in the text\"\n",
    "    # Average word length= sum of charcter in each word / number of words\n",
    "    avg_word_length=sum(word_length)/len(words)\n",
    "\n",
    "    return len(words), count_sent, avg_word_length, freq_word\n",
    "# Test\n",
    "text1=\"Python is a high-level, interpreted programming language. It's dynamically typed, meaning you don't have to explicitly declare the type of a variable. It's widely used for web development, data analysis, machine learning, and automation. Python is known for its readability and ease of use.\"\n",
    "words=list(text_analyzer(text1))\n",
    "print(f\"Words: {words[0]}\\nSentences: {words[1]}\\nAvg Word Length: {words[2]}\\nMost frequent word: {words[3]}\")\n"
   ]
  },
  {
   "cell_type": "markdown",
   "metadata": {},
   "source": [
    "---\n",
    "\n",
    "## ***`Basic Statistics Calculator`***\n",
    "\n",
    "**`Objective`:** Creating a Python program that calculates basic statistics (mean, median, mode, range, variance, and standard deviation) for a set of numbers entered by the user, without the use of libraries\n"
   ]
  },
  {
   "cell_type": "code",
   "execution_count": 37,
   "metadata": {},
   "outputs": [],
   "source": [
    "# Initialize an empty list to store numbers\n",
    "temperatures = [23, 25, 20, 23, -5, 21, 18, 19, 24, 21,19, 24, 0, \n",
    "                20, 24, 55, 22, 50, 22, 20, 21, 22, 20, 25, 19, \n",
    "                22, 26, 23, 21, 23, 17, 20, 18]"
   ]
  },
  {
   "cell_type": "code",
   "execution_count": null,
   "metadata": {},
   "outputs": [
    {
     "name": "stdout",
     "output_type": "stream",
     "text": [
      "The mean of the list: 21.87878787878788\n"
     ]
    }
   ],
   "source": [
    "# --- Mean Calculation ---\n",
    "\n",
    "def mean_calc(nums: list) -> float:\n",
    "    \"\"\"\n",
    "    The function sums up a given list of integers \n",
    "    and returns the mean of the number\n",
    "    \"\"\"\n",
    "    sum=0\n",
    "    if not nums:\n",
    "        return 0\n",
    "    else:\n",
    "        for num in nums:\n",
    "            sum+=num\n",
    "        return sum/len(nums)\n",
    "# Test\n",
    "temp_empty=[]\n",
    "mean=mean_calc(temperatures)\n",
    "print(f\"The mean of the list: {mean}\")"
   ]
  },
  {
   "cell_type": "code",
   "execution_count": null,
   "metadata": {},
   "outputs": [
    {
     "name": "stdout",
     "output_type": "stream",
     "text": [
      "The median of the list: 21\n"
     ]
    }
   ],
   "source": [
    "# --- Median Calculation ---\n",
    "\n",
    "def median_calc(nums: list):\n",
    "    \"\"\"\n",
    "        The function sorts the given list using bubble sort\n",
    "        then calculates the median for either an even or an odd\n",
    "        list in terms of it's length\n",
    "\n",
    "        Parameters:\n",
    "        nums: list of integers\n",
    "\n",
    "        Return Value:\n",
    "        median: int or float\n",
    "    \"\"\"\n",
    "    # To sort the list first\n",
    "    for i in range(len(nums)):\n",
    "        for j in range(0, len(nums)-i-1):\n",
    "            if nums[j]>nums[j+1]:\n",
    "                nums[j], nums[j+1]=nums[j+1], nums[j]\n",
    "    # Handle if the list is even or odd in terms of length\n",
    "    if len(nums)%2==0:\n",
    "       return (nums[int(len(nums)/2)]+nums[int(((len(nums)/2)-1))])/2\n",
    "    else:\n",
    "        return nums[round(len(nums)/2)]\n",
    "# Test        \n",
    "temp_even=[1,2,3,4,5,6]\n",
    "temp_odd=[1,2,3,4,5]\n",
    "print(f\"The median of the list: {median_calc(temperatures)}\")"
   ]
  },
  {
   "cell_type": "code",
   "execution_count": null,
   "metadata": {},
   "outputs": [
    {
     "name": "stdout",
     "output_type": "stream",
     "text": [
      "The Mode of the list: [20]\n"
     ]
    }
   ],
   "source": [
    "# --- Mode Calculation ---\n",
    "\n",
    "def mode_calc(nums: list) -> list:\n",
    "    \"\"\"\n",
    "        The function counts the frequencies of each element in the list\n",
    "        and returns a list of numbers with max frequency\n",
    "\n",
    "        Parameters:\n",
    "        list: int\n",
    "\n",
    "        Return Value:\n",
    "        list: int \n",
    "    \"\"\"\n",
    "    freq={}\n",
    "    # Count each element in the list\n",
    "    for num in nums:\n",
    "        if num in freq:\n",
    "            freq[num]+=1\n",
    "        else:\n",
    "            freq[num]=1\n",
    "    # The maximum frequency\n",
    "    max_count=max(freq.values())\n",
    "    # If the frequency of the numbers have the same max value we add these numbers to a list\n",
    "    max_freq=[num for num in freq if freq[num] == max_count]\n",
    "    return max_freq\n",
    "# Test\n",
    "print(f\"The Mode of the list: {mode_calc(temperatures)}\")"
   ]
  },
  {
   "cell_type": "code",
   "execution_count": null,
   "metadata": {},
   "outputs": [
    {
     "name": "stdout",
     "output_type": "stream",
     "text": [
      "The variance of the list: 101.35984848484854\n"
     ]
    }
   ],
   "source": [
    "# --- Variance Calculation ---\n",
    "\n",
    "def var_calc(nums: list) -> float:\n",
    "    \"\"\"\n",
    "        The function uses the [mean_calc()] function to get the mean\n",
    "        and calculates the variance\n",
    "\n",
    "        Parameters:\n",
    "        list: int\n",
    "\n",
    "        Return Value:\n",
    "        variance: float\n",
    "    \"\"\"\n",
    "    x_bar=mean_calc(nums)\n",
    "    sum=0\n",
    "    for num in nums:\n",
    "        sum+=(num-x_bar)**2\n",
    "    return sum/(len(nums)-1)\n",
    "# Test\n",
    "print(f\"The variance of the list: {var_calc(temperatures)}\")"
   ]
  },
  {
   "cell_type": "code",
   "execution_count": null,
   "metadata": {},
   "outputs": [
    {
     "name": "stdout",
     "output_type": "stream",
     "text": [
      "The standard deviation of the list: 10.067762834157772\n"
     ]
    }
   ],
   "source": [
    "# --- Standard Deviation Calculation ---\n",
    "\n",
    "def sd_calc(nums: list) -> float:\n",
    "    \"\"\"\n",
    "        The function just returns the square root of the\n",
    "        function's [var_calc()] output\n",
    "\n",
    "        Parameters:\n",
    "        list: int\n",
    "\n",
    "        Return Value:\n",
    "        SD: float\n",
    "    \"\"\"\n",
    "    return (var_calc(nums))**0.5\n",
    "# Test\n",
    "print(f\"The standard deviation of the list: {sd_calc(temperatures)}\")"
   ]
  },
  {
   "cell_type": "code",
   "execution_count": null,
   "metadata": {},
   "outputs": [
    {
     "name": "stdout",
     "output_type": "stream",
     "text": [
      "The difference between the max and the min numbers in the list: 60\n"
     ]
    }
   ],
   "source": [
    "# --- Range Calculation ---\n",
    "\n",
    "def range_calc(nums: list) -> int:\n",
    "    \"\"\"\n",
    "        The function sorts the list in order to get the max and min number\n",
    "        and calculate the difference between them\n",
    "\n",
    "        Parameters:\n",
    "        list: int\n",
    "\n",
    "        Return Value:\n",
    "        range: int\n",
    "    \"\"\"\n",
    "    # Sorting the list using bubble sort\n",
    "    for i in range(len(nums)):\n",
    "        for j in range(0, len(nums)-i-1):\n",
    "            if nums[j]>nums[j+1]:\n",
    "                nums[j], nums[j+1]=nums[j+1], nums[j]\n",
    "    return nums[-1]-nums[0]\n",
    "# Test\n",
    "print(f\"The difference between the max and the min numbers in the list: {range_calc(temperatures)}\")"
   ]
  },
  {
   "cell_type": "code",
   "execution_count": null,
   "metadata": {},
   "outputs": [
    {
     "name": "stdout",
     "output_type": "stream",
     "text": [
      "Q1 list: [-5, 0, 17, 18, 18, 19, 19, 19, 20, 20, 20, 20, 20, 21, 21, 21]\n",
      "Q2: 21\n",
      "Q3 list: [22, 22, 22, 22, 23, 23, 23, 23, 24, 24, 24, 25, 25, 26, 50, 55]\n",
      "IQR: 4.0\n"
     ]
    }
   ],
   "source": [
    "# --- IQR Calculation ---\n",
    "\n",
    "def IQR_calc(nums: list):\n",
    "    \"\"\"\n",
    "        The function calculates the IQR by splitting the list\n",
    "        into Q1, Q2, and Q3 using the [median_calc()] func\n",
    "\n",
    "        Parameters:\n",
    "        list: int\n",
    "\n",
    "        Return Values:\n",
    "        Q1 list: list of integers\n",
    "        Q2: float or int\n",
    "        Q3 list: list of integers\n",
    "        IQR: float or int\n",
    "                    (In this exact order)\n",
    "    \"\"\"\n",
    "    Q1_list=[]\n",
    "    Q3_list=[]\n",
    "    Q2=median_calc(nums)\n",
    "\n",
    "    for num in range(0,len(nums)):\n",
    "        # This means the list is even if it's true\n",
    "        if type(Q2) is not int:\n",
    "            if num<=(len(nums)/2)-1:\n",
    "                Q1_list.append(nums[num])\n",
    "            else:\n",
    "                Q3_list.append(nums[num])\n",
    "        else:\n",
    "            if num<round(len(nums)/2):\n",
    "                Q1_list.append(nums[num])\n",
    "            elif num>round(len(nums)/2):\n",
    "                Q3_list.append(nums[num])     \n",
    "    Q1=median_calc(Q1_list)\n",
    "    Q3=median_calc(Q3_list)\n",
    "    return Q1_list, Q2, Q3_list, (Q3-Q1)\n",
    "# Test    \n",
    "quartiles=list(IQR_calc(temperatures))\n",
    "print(f\"Q1 list: {quartiles[0]}\\nQ2: {quartiles[1]}\\nQ3 list: {quartiles[2]}\\nIQR: {quartiles[3]}\")"
   ]
  },
  {
   "cell_type": "code",
   "execution_count": null,
   "metadata": {},
   "outputs": [
    {
     "name": "stdout",
     "output_type": "stream",
     "text": [
      "The skewness of the list: 0.26186191309741796\n"
     ]
    }
   ],
   "source": [
    "# --- Skewness Calculation ---\n",
    "\n",
    "def skewness_calc(nums: list)-> float:\n",
    "    \"\"\"\n",
    "        The function calculates the skewness using other functions\n",
    "        like [mean_calc()], [median_calc()] and [sd_calc()]\n",
    "\n",
    "        Parameters:\n",
    "        nums: list (int)\n",
    "\n",
    "        Return value:\n",
    "        skewness: float (using the skewness equation \"(3*(mean-median))/SD)\")\n",
    "    \"\"\"\n",
    "    mean=mean_calc(nums)\n",
    "    median=median_calc(nums)\n",
    "    SD=sd_calc(nums)\n",
    "    # Skewness equation\n",
    "    skewness= (3*(mean-median))/SD\n",
    "    return skewness\n",
    "# Test\n",
    "print(f\"The skewness of the list: {skewness_calc(temperatures)}\")"
   ]
  },
  {
   "cell_type": "code",
   "execution_count": null,
   "metadata": {},
   "outputs": [
    {
     "name": "stdout",
     "output_type": "stream",
     "text": [
      "The Kurtosis of the list using Fisher's kurtosis formula: 9.474166646849032\n"
     ]
    }
   ],
   "source": [
    "# --- Kurtosis Calculation ---\n",
    "\n",
    "def kurtosis_calc(nums: list) -> float:\n",
    "    \"\"\"\n",
    "        The function calculates the kurtosis of a list of integers\n",
    "        using Fisher's kurtosis formula and calling other functions\n",
    "        like [mean_calc()] and [sd_calc()]\n",
    "\n",
    "        Parameters:\n",
    "        nums: list (int)\n",
    "\n",
    "        Return Value:\n",
    "        kurtosis Value: float \n",
    "    \"\"\"\n",
    "    x_bar=mean_calc(nums)\n",
    "    sd=sd_calc(nums)\n",
    "    fourth_moment_sum=0\n",
    "    # first part of the equation\n",
    "    first=(len(nums)*(len(nums)+1))/((len(nums)-1)*(len(nums)-2)*(len(nums)-3))\n",
    "    # Second part of the equation\n",
    "    for num in nums:\n",
    "        fourth_moment_sum+=(num-x_bar)**4\n",
    "    second= fourth_moment_sum/(sd**4)\n",
    "    return first*second\n",
    "# Test\n",
    "print(f\"The Kurtosis of the list using Fisher's kurtosis formula: {kurtosis_calc(temperatures)}\")"
   ]
  }
 ],
 "metadata": {
  "kernelspec": {
   "display_name": "Python 3",
   "language": "python",
   "name": "python3"
  },
  "language_info": {
   "codemirror_mode": {
    "name": "ipython",
    "version": 3
   },
   "file_extension": ".py",
   "mimetype": "text/x-python",
   "name": "python",
   "nbconvert_exporter": "python",
   "pygments_lexer": "ipython3",
   "version": "3.12.4"
  }
 },
 "nbformat": 4,
 "nbformat_minor": 2
}
